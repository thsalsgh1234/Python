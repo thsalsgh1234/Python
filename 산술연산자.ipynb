{
 "cells": [
  {
   "cell_type": "code",
   "execution_count": 3,
   "metadata": {},
   "outputs": [
    {
     "name": "stdout",
     "output_type": "stream",
     "text": [
      "1.4285714285714286\n",
      "3\n",
      "1\n"
     ]
    }
   ],
   "source": [
    "num1 = 10\n",
    "num2 = 7\n",
    "print(num1/num2)\n",
    "print(num1%num2)\n",
    "print(num1//num2)"
   ]
  },
  {
   "cell_type": "code",
   "execution_count": 6,
   "metadata": {},
   "outputs": [
    {
     "name": "stdout",
     "output_type": "stream",
     "text": [
      "더하기 결과 :  26\n",
      "빼기 결과 :  20\n",
      "곱하기 결과 :  69\n",
      "나누기기 결과 :  7.666666666666667\n"
     ]
    }
   ],
   "source": [
    "num1 = 23\n",
    "num2 = 3 \n",
    "print(\"더하기 결과 : \",num1+num2)# ㅋㅋㅋ\n",
    "print(\"빼기 결과 : \",num1 - num2)\n",
    "print(\"곱하기 결과 : \",num1 * num2)\n",
    "print(\"나누기기 결과 : \",num1 / num2)"
   ]
  },
  {
   "cell_type": "code",
   "execution_count": 2,
   "metadata": {},
   "outputs": [
    {
     "name": "stdout",
     "output_type": "stream",
     "text": [
      "정수를 입력하세요 >> 133\n"
     ]
    },
    {
     "data": {
      "text/plain": [
       "'133'"
      ]
     },
     "execution_count": 2,
     "metadata": {},
     "output_type": "execute_result"
    }
   ],
   "source": [
    "num = input(\"정수를 입력하세요 >> \")\n",
    "num"
   ]
  },
  {
   "cell_type": "code",
   "execution_count": 3,
   "metadata": {},
   "outputs": [
    {
     "name": "stdout",
     "output_type": "stream",
     "text": [
      "정수를 입력하세요 >>3\n",
      "정수를 입력하세요 >>7\n",
      "더하기 결과 :  10\n",
      "빼기 결과 :  -4\n",
      "곱하기 결과 :  21\n",
      "나누기기 결과 :  0.42857142857142855\n"
     ]
    }
   ],
   "source": [
    "num1 = int(input(\"정수를 입력하세요 >>\"))\n",
    "num2 = int(input(\"정수를 입력하세요 >>\"))\n",
    "print(\"더하기 결과 : \",num1+num2)\n",
    "print(\"빼기 결과 : \",num1 - num2)\n",
    "print(\"곱하기 결과 : \",num1 * num2)\n",
    "print(\"나누기기 결과 : \",num1 / num2)"
   ]
  },
  {
   "cell_type": "code",
   "execution_count": 8,
   "metadata": {},
   "outputs": [
    {
     "name": "stdout",
     "output_type": "stream",
     "text": [
      "python 점수 입력 >>100\n",
      "머신러닝 점수 입력 >>80\n",
      "딥러닝 점수 입력 >>60\n",
      "합계 : 240\n",
      "평균 : 80.0\n"
     ]
    }
   ],
   "source": [
    "p1 = int(input(\"python 점수 입력 >>\"))\n",
    "m1 = int(input(\"머신러닝 점수 입력 >>\"))\n",
    "d1 = int(input(\"딥러닝 점수 입력 >>\"))\n",
    "\n",
    "print(\"합계 : {}\".format(p1+m1+d1))\n",
    "print(\"평균 : {}\".format((p1+m1+d1)/3))"
   ]
  },
  {
   "cell_type": "code",
   "execution_count": 39,
   "metadata": {},
   "outputs": [
    {
     "name": "stdout",
     "output_type": "stream",
     "text": [
      "초를 입력 >>3600\n",
      "1시간 0분 0초\n"
     ]
    }
   ],
   "source": [
    "# 시간을 초로 입력받기\n",
    "time = int(input(\"초를 입력 >>\"))\n",
    "\n",
    "# 시,분 ,초에 대한 연산 진행\n",
    "hour = time//3600\n",
    "minute = (time % 3600) // 60\n",
    "second = (time % 3600) % 60\n",
    "print(\"{}시간 {}분 {}초\".format(hour,minute,second))"
   ]
  },
  {
   "cell_type": "code",
   "execution_count": 40,
   "metadata": {},
   "outputs": [
    {
     "name": "stdout",
     "output_type": "stream",
     "text": [
      "안녕하세요안녕하세요\n"
     ]
    }
   ],
   "source": [
    "s = \"안녕하세요\"\n",
    "print(s*2)"
   ]
  },
  {
   "cell_type": "code",
   "execution_count": 46,
   "metadata": {},
   "outputs": [
    {
     "name": "stdout",
     "output_type": "stream",
     "text": [
      "********* 연산하기 *********\n",
      "정수입력 >>10\n",
      "정수입력 >>20\n",
      "+연산자 입력 >>+\n",
      "10 + 20 = 30\n"
     ]
    }
   ],
   "source": [
    "print(\"********* 연산하기 *********\")\n",
    "num1 = int(input(\"정수입력 >>\"))\n",
    "num2 = int(input(\"정수입력 >>\"))\n",
    "cal = input(\"+연산자 입력 >>\")\n",
    "print(\"{} {} {} = {}\".format(num1,cal,num2,num1+num2))"
   ]
  },
  {
   "cell_type": "code",
   "execution_count": 48,
   "metadata": {},
   "outputs": [
    {
     "name": "stdout",
     "output_type": "stream",
     "text": [
      "********** 연산하기 **********\n",
      "정수입력 >>10\n",
      "정수입력 >>20\n",
      "+연산자 입력 >>+\n",
      "10 + 20 = 30\n"
     ]
    }
   ],
   "source": [
    "print(\"*\"*10, \"연산하기\",\"*\"*10)\n",
    "num1 = int(input(\"정수입력 >>\"))\n",
    "num2 = int(input(\"정수입력 >>\"))\n",
    "cal = input(\"+연산자 입력 >> \")\n",
    "print(f\"{num1} {cal} {num2} = {num1+num2}\")"
   ]
  }
 ],
 "metadata": {
  "kernelspec": {
   "display_name": "Python 3",
   "language": "python",
   "name": "python3"
  },
  "language_info": {
   "codemirror_mode": {
    "name": "ipython",
    "version": 3
   },
   "file_extension": ".py",
   "mimetype": "text/x-python",
   "name": "python",
   "nbconvert_exporter": "python",
   "pygments_lexer": "ipython3",
   "version": "3.8.5"
  }
 },
 "nbformat": 4,
 "nbformat_minor": 4
}
